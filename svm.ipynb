{
 "cells": [
  {
   "cell_type": "markdown",
   "metadata": {},
   "source": [
    "## Mathematical Formulation"
   ]
  },
  {
   "cell_type": "markdown",
   "metadata": {},
   "source": [
    "$min_{\\gamma,w,b} \\frac{1}{2} \\vert\\vert w \\vert\\vert ^{2} + C \\sum_{i=1}^{m} \\xi_{i}$\n",
    "\n",
    "$min_{\\gamma,w,b} \\frac{1}{2} \\vert\\vert w \\vert\\vert ^{2} + C 1^T\\xi$\n",
    "\n",
    "$ s.t.$ \n",
    "\n",
    "$ y^{(i)}(w^T x^{(i)} + b) \\geq 1 - \\xi_{i} , i=1,2,...m $\n",
    "\n",
    "$ \\xi_{i} \\geq 0 , i=1,2,...m $\n",
    "\n",
    "$ max_\\alpha \\sum_{i=1}^{m} \\alpha_{i} - \\frac{1}{2} \\sum_{i,j=1}^{m} y^{(i)}y^{(j)}\\alpha_{i}\\alpha_{j}<x^{(i)},x^{(j)}>$\n",
    "\n",
    "$ s.t.$ \n",
    "\n",
    "$ 0 \\leq \\alpha_{i} \\leq C_{i}, i=1,2,...m $\n",
    "\n",
    "$  \\sum_{i=1}^{m} \\alpha_{i} y^{(i)} = 0 $"
   ]
  },
  {
   "cell_type": "markdown",
   "metadata": {},
   "source": [
    "### Importing Libraries"
   ]
  },
  {
   "cell_type": "code",
   "execution_count": 1,
   "metadata": {},
   "outputs": [],
   "source": [
    "import cvxpy as cp\n",
    "import numpy as np\n",
    "import matplotlib.pyplot as plt\n",
    "import time, os"
   ]
  },
  {
   "cell_type": "markdown",
   "metadata": {},
   "source": [
    "### Generating Data"
   ]
  },
  {
   "cell_type": "code",
   "execution_count": 2,
   "metadata": {},
   "outputs": [
    {
     "name": "stdout",
     "output_type": "stream",
     "text": [
      "x (100, 2) y (100,)\n",
      "x_test (50, 2) y_test (50,)\n"
     ]
    }
   ],
   "source": [
    "DIM = 2\n",
    "COLORS = ['red', 'blue']\n",
    "\n",
    "# 2-D mean of ones\n",
    "M1 = np.ones((DIM,))\n",
    "# 2-D mean of threes\n",
    "M2 = 2 * np.ones((DIM,))\n",
    "# 2-D covariance of 0.3\n",
    "C1 = np.diag(0.3 * np.ones((DIM,)))\n",
    "# 2-D covariance of 0.2\n",
    "C2 = np.diag(0.2 * np.ones((DIM,)))\n",
    "\n",
    "def generate_gaussian(m, c, num):\n",
    "    return np.random.multivariate_normal(m, c, num)\n",
    "\n",
    "NUM = 50\n",
    "if __name__ == '__main__':\n",
    "    # generate 50 points from gaussian 1\n",
    "    x1 = generate_gaussian(M1, C1, NUM)\n",
    "    x1_test = generate_gaussian(M1,C1,int(NUM/2))\n",
    "    # labels\n",
    "    y1 = np.ones((x1.shape[0],))\n",
    "    y1_test = np.ones((int(x1_test.shape[0]),))\n",
    "    # generate 50 points from gaussian 2\n",
    "    x2 = generate_gaussian(M2, C2, NUM)\n",
    "    x2_test = generate_gaussian(M2,C2,int(NUM/2))\n",
    "    y2 = -np.ones((x2.shape[0],))\n",
    "    y2_test = -np.ones((int(x2_test.shape[0]),))\n",
    "    # join\n",
    "    x = np.concatenate((x1, x2), axis = 0)\n",
    "    y = np.concatenate((y1, y2), axis = 0)\n",
    "    x_test = np.concatenate((x1_test,x2_test),axis = 0)\n",
    "    y_test = np.concatenate((y1_test,y2_test),axis = 0)\n",
    "    print('x {} y {}'.format(x.shape, y.shape))\n",
    "    print('x_test {} y_test {}'.format(x_test.shape, y_test.shape))\n",
    "    # write\n",
    "    #with open('gaussiandata.pickle', 'wb') as f:\n",
    "    #    pickle.dump((x, y), f)"
   ]
  },
  {
   "cell_type": "markdown",
   "metadata": {},
   "source": [
    "### Plotting Functions"
   ]
  },
  {
   "cell_type": "code",
   "execution_count": 3,
   "metadata": {},
   "outputs": [],
   "source": [
    "def plot_data_with_labels(x, y, ax=None):\n",
    "    unique = np.unique(y)\n",
    "    if ax==None:\n",
    "        fig,ax = plt.subplots()\n",
    "    for li in range(len(unique)):\n",
    "        x_sub = x[y == unique[li]]\n",
    "        ax.scatter(x_sub[:, 0], x_sub[:, 1], c = COLORS[li])\n",
    "    plt.show()"
   ]
  },
  {
   "cell_type": "code",
   "execution_count": 4,
   "metadata": {},
   "outputs": [
    {
     "data": {
      "image/png": "[encoded data removed]",
      "text/plain": [
       "<Figure size 432x288 with 1 Axes>"
      ]
     },
     "metadata": {
      "needs_background": "light"
     },
     "output_type": "display_data"
    }
   ],
   "source": [
    "plot_data_with_labels(x, y)"
   ]
  },
  {
   "cell_type": "code",
   "execution_count": 5,
   "metadata": {},
   "outputs": [],
   "source": [
    "def plot_separator(ax, w, b): \n",
    "    slope = -w[0] / w[1]\n",
    "    intercept = -b / w[1]\n",
    "    minpt = np.min(x[:,0])\n",
    "    maxpt = np.max(x[:,0])\n",
    "    sep_min = minpt*slope+intercept\n",
    "    sep_max = maxpt*slope+intercept\n",
    "    ax.plot([minpt,maxpt], [sep_min,sep_max], 'k-')"
   ]
  },
  {
   "cell_type": "code",
   "execution_count": 6,
   "metadata": {},
   "outputs": [],
   "source": [
    "def plot_margins(ax, w, b):\n",
    "    slope = -w[0] / w[1]\n",
    "    intercept = -b / w[1]\n",
    "    minpt = np.min(x[:,0])\n",
    "    maxpt = np.max(x[:,0])\n",
    "    margin_up_min = slope*minpt+intercept+1/w[1]\n",
    "    margin_up_max = slope*maxpt+intercept+1/w[1]\n",
    "    margin_down_min = slope*minpt+intercept-1/w[1]\n",
    "    margin_down_max = slope*maxpt+intercept-1/w[1]\n",
    "    \n",
    "    ax.plot([minpt,maxpt],[margin_up_min,margin_up_max],'--',color='gray')\n",
    "    ax.plot([minpt,maxpt],[margin_down_min,margin_down_max],'--',color='gray')"
   ]
  },
  {
   "cell_type": "markdown",
   "metadata": {},
   "source": [
    "# Primal"
   ]
  },
  {
   "cell_type": "markdown",
   "metadata": {},
   "source": [
    "### Declaring Variables and Parameters"
   ]
  },
  {
   "cell_type": "code",
   "execution_count": 7,
   "metadata": {},
   "outputs": [],
   "source": [
    "w = cp.Variable(DIM)\n",
    "b = cp.Variable()\n",
    "Xi = cp.Variable(2*NUM) #Length equal to total number of samples\n",
    "\n",
    "Cp = cp.Parameter()\n",
    "Cp.value = 0.6"
   ]
  },
  {
   "cell_type": "markdown",
   "metadata": {},
   "source": [
    "### Declaring the Constraints"
   ]
  },
  {
   "cell_type": "code",
   "execution_count": 8,
   "metadata": {},
   "outputs": [],
   "source": [
    "x_constraints = [y[i]*(w.T@x[i]+b) >= 1 - Xi[i] for i in range(2*NUM)]\n",
    "Xi_constraints = [Xi[i]>=0 for i in range(2*NUM)]\n",
    "\n",
    "constraints = x_constraints + Xi_constraints"
   ]
  },
  {
   "cell_type": "markdown",
   "metadata": {},
   "source": [
    "### Declaring the Objective Function"
   ]
  },
  {
   "cell_type": "code",
   "execution_count": 9,
   "metadata": {},
   "outputs": [],
   "source": [
    "objective = cp.Minimize(0.5*cp.norm(w,2)+Cp*(np.ones(2*NUM)@Xi))"
   ]
  },
  {
   "cell_type": "markdown",
   "metadata": {},
   "source": [
    "### Declaring the Problem instance"
   ]
  },
  {
   "cell_type": "code",
   "execution_count": 10,
   "metadata": {},
   "outputs": [],
   "source": [
    "prob = cp.Problem(objective,constraints)"
   ]
  },
  {
   "cell_type": "markdown",
   "metadata": {},
   "source": [
    "### Final nail!!!"
   ]
  },
  {
   "cell_type": "code",
   "execution_count": 11,
   "metadata": {},
   "outputs": [
    {
     "name": "stdout",
     "output_type": "stream",
     "text": [
      "Problem Status : optimal\n",
      "Objective Function Value :  15.740554609219519\n",
      "Time Taken :  0.31200718879699707  seconds\n",
      "\n"
     ]
    }
   ],
   "source": [
    "optimal_w = None\n",
    "optimal_b = None\n",
    "\n",
    "Cp.value = 0.95\n",
    "stime = time.time()\n",
    "prob.solve()\n",
    "\n",
    "optimal_w = w.value\n",
    "optimal_b = b.value\n",
    "\n",
    "print(\"Problem Status : \"+prob.status)\n",
    "print(\"Objective Function Value : \",prob.value)\n",
    "print(\"Time Taken : \",time.time()-stime,\" seconds\\n\")"
   ]
  },
  {
   "cell_type": "code",
   "execution_count": 12,
   "metadata": {},
   "outputs": [
    {
     "name": "stdout",
     "output_type": "stream",
     "text": [
      "Optimal Value of w :  [-2.16779649 -1.89337913]\n",
      "Optimal Value of b :  6.143287321872118\n"
     ]
    }
   ],
   "source": [
    "print(\"Optimal Value of w : \",optimal_w)\n",
    "print(\"Optimal Value of b : \",optimal_b)"
   ]
  },
  {
   "cell_type": "code",
   "execution_count": 25,
   "metadata": {},
   "outputs": [
    {
     "name": "stdout",
     "output_type": "stream",
     "text": [
      "Training Accuracy :  0.95\n"
     ]
    }
   ],
   "source": [
    "print(\"Training Accuracy : \",end=\" \")\n",
    "print(np.count_nonzero([y[i]*(w.value@x[i,:].T+b.value)>=0 for i in range(2*NUM)])/(2*NUM))"
   ]
  },
  {
   "cell_type": "code",
   "execution_count": 24,
   "metadata": {},
   "outputs": [
    {
     "name": "stdout",
     "output_type": "stream",
     "text": [
      "Test Accuracy : \n",
      "0.94\n"
     ]
    }
   ],
   "source": [
    "print(\"Test Accuracy : \")\n",
    "print(np.count_nonzero([y_test[i]*(w.value@x_test[i,:].T+b.value)>=0 for i in range(NUM)])/int(NUM))"
   ]
  },
  {
   "cell_type": "code",
   "execution_count": 15,
   "metadata": {},
   "outputs": [
    {
     "data": {
      "image/png": "[encoded data removed]",
      "text/plain": [
       "<Figure size 432x288 with 1 Axes>"
      ]
     },
     "metadata": {
      "needs_background": "light"
     },
     "output_type": "display_data"
    }
   ],
   "source": [
    "# show data and w\n",
    "fig, ax = plt.subplots()\n",
    "plot_separator(ax, optimal_w, optimal_b)\n",
    "plot_margins(ax,optimal_w,optimal_b)\n",
    "plot_data_with_labels(x, y, ax)\n",
    "plt.show()"
   ]
  },
  {
   "cell_type": "code",
   "execution_count": 16,
   "metadata": {},
   "outputs": [
    {
     "data": {
      "image/png": "[encoded data removed]",
      "text/plain": [
       "<Figure size 432x288 with 1 Axes>"
      ]
     },
     "metadata": {
      "needs_background": "light"
     },
     "output_type": "display_data"
    }
   ],
   "source": [
    "fig, ax = plt.subplots()\n",
    "plot_separator(ax, optimal_w, optimal_b)\n",
    "plot_margins(ax,optimal_w,optimal_b)\n",
    "plot_data_with_labels(x_test, y_test, ax)\n",
    "plt.show()"
   ]
  },
  {
   "cell_type": "code",
   "execution_count": 17,
   "metadata": {},
   "outputs": [
    {
     "data": {
      "text/plain": [
       "SVC(C=0.95, cache_size=200, class_weight=None, coef0=0.0,\n",
       "    decision_function_shape='ovr', degree=3, gamma='auto_deprecated',\n",
       "    kernel='linear', max_iter=-1, probability=False, random_state=None,\n",
       "    shrinking=True, tol=0.001, verbose=False)"
      ]
     },
     "execution_count": 17,
     "metadata": {},
     "output_type": "execute_result"
    }
   ],
   "source": [
    "import warnings\n",
    "warnings.filterwarnings(\"ignore\", message=\"numpy.dtype size changed\")\n",
    "warnings.filterwarnings(\"ignore\", message=\"numpy.ufunc size changed\")\n",
    "\n",
    "from sklearn import svm\n",
    "\n",
    "clf = svm.SVC(kernel='linear',C=1-0.05)\n",
    "clf.fit(x,y)"
   ]
  },
  {
   "cell_type": "code",
   "execution_count": 18,
   "metadata": {},
   "outputs": [
    {
     "name": "stdout",
     "output_type": "stream",
     "text": [
      "[-1.69314349 -1.58813166] [4.96198224]\n"
     ]
    }
   ],
   "source": [
    "print(clf.coef_[0],clf.intercept_)"
   ]
  },
  {
   "cell_type": "code",
   "execution_count": 19,
   "metadata": {},
   "outputs": [
    {
     "data": {
      "image/png": "[encoded data removed]",
      "text/plain": [
       "<Figure size 432x288 with 1 Axes>"
      ]
     },
     "metadata": {
      "needs_background": "light"
     },
     "output_type": "display_data"
    }
   ],
   "source": [
    "w1 = clf.coef_[0]\n",
    "b1 = clf.intercept_\n",
    "fig1, ax1 = plt.subplots()\n",
    "plot_separator(ax1,w1,b1)\n",
    "plot_margins(ax1,w1,b1)\n",
    "plot_data_with_labels(x, y, ax1)\n",
    "plt.show()"
   ]
  },
  {
   "cell_type": "code",
   "execution_count": 20,
   "metadata": {},
   "outputs": [
    {
     "name": "stdout",
     "output_type": "stream",
     "text": [
      "Training Accuracy:  0.96\n"
     ]
    }
   ],
   "source": [
    "print(\"Training Accuracy: \", clf.score(x,y))"
   ]
  },
  {
   "cell_type": "code",
   "execution_count": 21,
   "metadata": {},
   "outputs": [
    {
     "data": {
      "text/plain": [
       "0.94"
      ]
     },
     "execution_count": 21,
     "metadata": {},
     "output_type": "execute_result"
    }
   ],
   "source": [
    "clf.score(x_test,y_test)"
   ]
  },
  {
   "cell_type": "code",
   "execution_count": null,
   "metadata": {},
   "outputs": [],
   "source": []
  },
  {
   "cell_type": "markdown",
   "metadata": {},
   "source": [
    "#### It is evident that the result obtained using cvxpy is almost same as returned by sklearn.svm.SVC "
   ]
  },
  {
   "cell_type": "markdown",
   "metadata": {},
   "source": [
    "# Dual"
   ]
  },
  {
   "cell_type": "code",
   "execution_count": 26,
   "metadata": {},
   "outputs": [],
   "source": [
    "def get_weights_and_bias(alphas):\n",
    "    # get weights\n",
    "    w = np.sum(alphas.value @ y[:, None] * x, axis = 0)\n",
    "    # get bias\n",
    "    cond = (alphas.value > 1e-4).reshape(-1)\n",
    "    b = y[cond] - np.dot(x[cond], w)\n",
    "    bias = b[0]\n",
    "    return (w,b)"
   ]
  },
  {
   "cell_type": "code",
   "execution_count": 27,
   "metadata": {},
   "outputs": [],
   "source": [
    "alphas = cp.Variable((2*NUM,1))\n",
    "Cd = cp.Parameter()\n",
    "Cd.value = 0.95"
   ]
  },
  {
   "cell_type": "code",
   "execution_count": 28,
   "metadata": {},
   "outputs": [],
   "source": [
    "alphas_constraint_1 = [alphas[i] >= 0 for i in range(2*NUM)]\n",
    "alphas_constraint_2 = [alphas[i] <= Cd for i in range(2*NUM)]\n",
    "alpha_y_constraint = [cp.sum([alphas[i]*y[i] for i in range(2*NUM)]) == 0]\n",
    "\n",
    "constraints_dual = alphas_constraint_1 + alphas_constraint_2 + alpha_y_constraint"
   ]
  },
  {
   "cell_type": "code",
   "execution_count": 29,
   "metadata": {},
   "outputs": [],
   "source": [
    "K = y[:,None]*x\n",
    "K = np.dot(K,K.T)"
   ]
  },
  {
   "cell_type": "code",
   "execution_count": 30,
   "metadata": {},
   "outputs": [
    {
     "data": {
      "text/plain": [
       "(1, 100)"
      ]
     },
     "execution_count": 30,
     "metadata": {},
     "output_type": "execute_result"
    }
   ],
   "source": [
    "cp.multiply(y[:,None],alphas).T.shape"
   ]
  },
  {
   "cell_type": "code",
   "execution_count": 31,
   "metadata": {},
   "outputs": [],
   "source": [
    "objective_dual = cp.Minimize(cp.sum(alphas)-alphas.T@K@alphas)"
   ]
  },
  {
   "cell_type": "code",
   "execution_count": 32,
   "metadata": {},
   "outputs": [],
   "source": [
    "prob_dual = cp.Problem(objective_dual,constraints)"
   ]
  },
  {
   "cell_type": "code",
   "execution_count": 33,
   "metadata": {},
   "outputs": [
    {
     "ename": "DCPError",
     "evalue": "Problem does not follow DCP rules. Specifically:\nThe objective is not DCP. Its following subexpressions are not:\nvar3420.T @ [[ 1.83491803  1.75045974  2.28622267 ... -4.39732493 -5.00052443\n  -3.77439719]\n [ 1.75045974  2.34203535  2.34179792 ... -5.44176538 -5.89979043\n  -4.35890149]\n [ 2.28622267  2.34179792  2.8869991  ... -5.77716101 -6.50063002\n  -4.88412578]\n ...\n [-4.39732493 -5.44176538 -5.77716101 ... 12.85096644 14.07871791\n  10.45176273]\n [-5.00052443 -5.89979043 -6.50063002 ... 14.07871791 15.52527056\n  11.56008668]\n [-3.77439719 -4.35890149 -4.88412578 ... 10.45176273 11.56008668\n   8.61922173]] @ var3420",
     "output_type": "error",
     "traceback": [
      "\u001b[1;31m---------------------------------------------------------------------------\u001b[0m",
      "\u001b[1;31mDCPError\u001b[0m                                  Traceback (most recent call last)",
      "\u001b[1;32m<ipython-input-33-3a56d8c5b8ac>\u001b[0m in \u001b[0;36m<module>\u001b[1;34m\u001b[0m\n\u001b[0;32m      4\u001b[0m \u001b[0mCd\u001b[0m\u001b[1;33m.\u001b[0m\u001b[0mvalue\u001b[0m \u001b[1;33m=\u001b[0m \u001b[1;36m0.95\u001b[0m\u001b[1;33m\u001b[0m\u001b[0m\n\u001b[0;32m      5\u001b[0m \u001b[0mstime\u001b[0m \u001b[1;33m=\u001b[0m \u001b[0mtime\u001b[0m\u001b[1;33m.\u001b[0m\u001b[0mtime\u001b[0m\u001b[1;33m(\u001b[0m\u001b[1;33m)\u001b[0m\u001b[1;33m\u001b[0m\u001b[0m\n\u001b[1;32m----> 6\u001b[1;33m \u001b[0mprob_dual\u001b[0m\u001b[1;33m.\u001b[0m\u001b[0msolve\u001b[0m\u001b[1;33m(\u001b[0m\u001b[1;33m)\u001b[0m\u001b[1;33m\u001b[0m\u001b[0m\n\u001b[0m\u001b[0;32m      7\u001b[0m \u001b[0mprint\u001b[0m\u001b[1;33m(\u001b[0m\u001b[1;34m\"Problem Status : \"\u001b[0m\u001b[1;33m+\u001b[0m\u001b[0mprob_dual\u001b[0m\u001b[1;33m.\u001b[0m\u001b[0mstatus\u001b[0m\u001b[1;33m)\u001b[0m\u001b[1;33m\u001b[0m\u001b[0m\n\u001b[0;32m      8\u001b[0m \u001b[0mprint\u001b[0m\u001b[1;33m(\u001b[0m\u001b[1;34m\"Objective Function Value : \"\u001b[0m\u001b[1;33m,\u001b[0m\u001b[0mprob_dual\u001b[0m\u001b[1;33m.\u001b[0m\u001b[0mvalue\u001b[0m\u001b[1;33m)\u001b[0m\u001b[1;33m\u001b[0m\u001b[0m\n",
      "\u001b[1;32mc:\\users\\siladittya\\appdata\\local\\programs\\python\\python36\\lib\\site-packages\\cvxpy-1.1.0a3-py3.6-win-amd64.egg\\cvxpy\\problems\\problem.py\u001b[0m in \u001b[0;36msolve\u001b[1;34m(self, *args, **kwargs)\u001b[0m\n\u001b[0;32m    323\u001b[0m         \u001b[1;32melse\u001b[0m\u001b[1;33m:\u001b[0m\u001b[1;33m\u001b[0m\u001b[0m\n\u001b[0;32m    324\u001b[0m             \u001b[0msolve_func\u001b[0m \u001b[1;33m=\u001b[0m \u001b[0mProblem\u001b[0m\u001b[1;33m.\u001b[0m\u001b[0m_solve\u001b[0m\u001b[1;33m\u001b[0m\u001b[0m\n\u001b[1;32m--> 325\u001b[1;33m         \u001b[1;32mreturn\u001b[0m \u001b[0msolve_func\u001b[0m\u001b[1;33m(\u001b[0m\u001b[0mself\u001b[0m\u001b[1;33m,\u001b[0m \u001b[1;33m*\u001b[0m\u001b[0margs\u001b[0m\u001b[1;33m,\u001b[0m \u001b[1;33m**\u001b[0m\u001b[0mkwargs\u001b[0m\u001b[1;33m)\u001b[0m\u001b[1;33m\u001b[0m\u001b[0m\n\u001b[0m\u001b[0;32m    326\u001b[0m \u001b[1;33m\u001b[0m\u001b[0m\n\u001b[0;32m    327\u001b[0m     \u001b[1;33m@\u001b[0m\u001b[0mclassmethod\u001b[0m\u001b[1;33m\u001b[0m\u001b[0m\n",
      "\u001b[1;32mc:\\users\\siladittya\\appdata\\local\\programs\\python\\python36\\lib\\site-packages\\cvxpy-1.1.0a3-py3.6-win-amd64.egg\\cvxpy\\problems\\problem.py\u001b[0m in \u001b[0;36m_solve\u001b[1;34m(self, solver, warm_start, verbose, gp, qcp, requires_grad, **kwargs)\u001b[0m\n\u001b[0;32m    637\u001b[0m                 \u001b[1;32mreturn\u001b[0m \u001b[0mself\u001b[0m\u001b[1;33m.\u001b[0m\u001b[0mvalue\u001b[0m\u001b[1;33m\u001b[0m\u001b[0m\n\u001b[0;32m    638\u001b[0m \u001b[1;33m\u001b[0m\u001b[0m\n\u001b[1;32m--> 639\u001b[1;33m         \u001b[0mdata\u001b[0m\u001b[1;33m,\u001b[0m \u001b[0msolving_chain\u001b[0m\u001b[1;33m,\u001b[0m \u001b[0minverse_data\u001b[0m \u001b[1;33m=\u001b[0m \u001b[0mself\u001b[0m\u001b[1;33m.\u001b[0m\u001b[0mget_problem_data\u001b[0m\u001b[1;33m(\u001b[0m\u001b[0msolver\u001b[0m\u001b[1;33m,\u001b[0m \u001b[0mgp\u001b[0m\u001b[1;33m)\u001b[0m\u001b[1;33m\u001b[0m\u001b[0m\n\u001b[0m\u001b[0;32m    640\u001b[0m         solution = solving_chain.solve_via_data(\n\u001b[0;32m    641\u001b[0m             self, data, warm_start, verbose, kwargs)\n",
      "\u001b[1;32mc:\\users\\siladittya\\appdata\\local\\programs\\python\\python36\\lib\\site-packages\\cvxpy-1.1.0a3-py3.6-win-amd64.egg\\cvxpy\\problems\\problem.py\u001b[0m in \u001b[0;36mget_problem_data\u001b[1;34m(self, solver, gp)\u001b[0m\n\u001b[0;32m    423\u001b[0m         \u001b[1;32mif\u001b[0m \u001b[0mkey\u001b[0m \u001b[1;33m!=\u001b[0m \u001b[0mself\u001b[0m\u001b[1;33m.\u001b[0m\u001b[0m_cache\u001b[0m\u001b[1;33m.\u001b[0m\u001b[0mkey\u001b[0m\u001b[1;33m:\u001b[0m\u001b[1;33m\u001b[0m\u001b[0m\n\u001b[0;32m    424\u001b[0m             \u001b[0mself\u001b[0m\u001b[1;33m.\u001b[0m\u001b[0m_cache\u001b[0m\u001b[1;33m.\u001b[0m\u001b[0minvalidate\u001b[0m\u001b[1;33m(\u001b[0m\u001b[1;33m)\u001b[0m\u001b[1;33m\u001b[0m\u001b[0m\n\u001b[1;32m--> 425\u001b[1;33m             \u001b[0msolving_chain\u001b[0m \u001b[1;33m=\u001b[0m \u001b[0mself\u001b[0m\u001b[1;33m.\u001b[0m\u001b[0m_construct_chain\u001b[0m\u001b[1;33m(\u001b[0m\u001b[0msolver\u001b[0m\u001b[1;33m=\u001b[0m\u001b[0msolver\u001b[0m\u001b[1;33m,\u001b[0m \u001b[0mgp\u001b[0m\u001b[1;33m=\u001b[0m\u001b[0mgp\u001b[0m\u001b[1;33m)\u001b[0m\u001b[1;33m\u001b[0m\u001b[0m\n\u001b[0m\u001b[0;32m    426\u001b[0m             \u001b[0mself\u001b[0m\u001b[1;33m.\u001b[0m\u001b[0m_cache\u001b[0m\u001b[1;33m.\u001b[0m\u001b[0mkey\u001b[0m \u001b[1;33m=\u001b[0m \u001b[0mkey\u001b[0m\u001b[1;33m\u001b[0m\u001b[0m\n\u001b[0;32m    427\u001b[0m             \u001b[0mself\u001b[0m\u001b[1;33m.\u001b[0m\u001b[0m_cache\u001b[0m\u001b[1;33m.\u001b[0m\u001b[0msolving_chain\u001b[0m \u001b[1;33m=\u001b[0m \u001b[0msolving_chain\u001b[0m\u001b[1;33m\u001b[0m\u001b[0m\n",
      "\u001b[1;32mc:\\users\\siladittya\\appdata\\local\\programs\\python\\python36\\lib\\site-packages\\cvxpy-1.1.0a3-py3.6-win-amd64.egg\\cvxpy\\problems\\problem.py\u001b[0m in \u001b[0;36m_construct_chain\u001b[1;34m(self, solver, gp)\u001b[0m\n\u001b[0;32m    548\u001b[0m         \"\"\"\n\u001b[0;32m    549\u001b[0m         \u001b[0mcandidate_solvers\u001b[0m \u001b[1;33m=\u001b[0m \u001b[0mself\u001b[0m\u001b[1;33m.\u001b[0m\u001b[0m_find_candidate_solvers\u001b[0m\u001b[1;33m(\u001b[0m\u001b[0msolver\u001b[0m\u001b[1;33m=\u001b[0m\u001b[0msolver\u001b[0m\u001b[1;33m,\u001b[0m \u001b[0mgp\u001b[0m\u001b[1;33m=\u001b[0m\u001b[0mgp\u001b[0m\u001b[1;33m)\u001b[0m\u001b[1;33m\u001b[0m\u001b[0m\n\u001b[1;32m--> 550\u001b[1;33m         \u001b[1;32mreturn\u001b[0m \u001b[0mconstruct_solving_chain\u001b[0m\u001b[1;33m(\u001b[0m\u001b[0mself\u001b[0m\u001b[1;33m,\u001b[0m \u001b[0mcandidate_solvers\u001b[0m\u001b[1;33m,\u001b[0m \u001b[0mgp\u001b[0m\u001b[1;33m=\u001b[0m\u001b[0mgp\u001b[0m\u001b[1;33m)\u001b[0m\u001b[1;33m\u001b[0m\u001b[0m\n\u001b[0m\u001b[0;32m    551\u001b[0m \u001b[1;33m\u001b[0m\u001b[0m\n\u001b[0;32m    552\u001b[0m     \u001b[1;32mdef\u001b[0m \u001b[0m_invalidate_cache\u001b[0m\u001b[1;33m(\u001b[0m\u001b[0mself\u001b[0m\u001b[1;33m)\u001b[0m\u001b[1;33m:\u001b[0m\u001b[1;33m\u001b[0m\u001b[0m\n",
      "\u001b[1;32mc:\\users\\siladittya\\appdata\\local\\programs\\python\\python36\\lib\\site-packages\\cvxpy-1.1.0a3-py3.6-win-amd64.egg\\cvxpy\\reductions\\solvers\\solving_chain.py\u001b[0m in \u001b[0;36mconstruct_solving_chain\u001b[1;34m(problem, candidates, gp)\u001b[0m\n\u001b[0;32m    144\u001b[0m     \u001b[1;32mif\u001b[0m \u001b[0mlen\u001b[0m\u001b[1;33m(\u001b[0m\u001b[0mproblem\u001b[0m\u001b[1;33m.\u001b[0m\u001b[0mvariables\u001b[0m\u001b[1;33m(\u001b[0m\u001b[1;33m)\u001b[0m\u001b[1;33m)\u001b[0m \u001b[1;33m==\u001b[0m \u001b[1;36m0\u001b[0m\u001b[1;33m:\u001b[0m\u001b[1;33m\u001b[0m\u001b[0m\n\u001b[0;32m    145\u001b[0m         \u001b[1;32mreturn\u001b[0m \u001b[0mSolvingChain\u001b[0m\u001b[1;33m(\u001b[0m\u001b[0mreductions\u001b[0m\u001b[1;33m=\u001b[0m\u001b[1;33m[\u001b[0m\u001b[0mConstantSolver\u001b[0m\u001b[1;33m(\u001b[0m\u001b[1;33m)\u001b[0m\u001b[1;33m]\u001b[0m\u001b[1;33m)\u001b[0m\u001b[1;33m\u001b[0m\u001b[0m\n\u001b[1;32m--> 146\u001b[1;33m     \u001b[0mreductions\u001b[0m \u001b[1;33m=\u001b[0m \u001b[0m_reductions_for_problem_class\u001b[0m\u001b[1;33m(\u001b[0m\u001b[0mproblem\u001b[0m\u001b[1;33m,\u001b[0m \u001b[0mcandidates\u001b[0m\u001b[1;33m,\u001b[0m \u001b[0mgp\u001b[0m\u001b[1;33m)\u001b[0m\u001b[1;33m\u001b[0m\u001b[0m\n\u001b[0m\u001b[0;32m    147\u001b[0m \u001b[1;33m\u001b[0m\u001b[0m\n\u001b[0;32m    148\u001b[0m     \u001b[1;31m# Conclude with matrix stuffing; choose one of the following paths:\u001b[0m\u001b[1;33m\u001b[0m\u001b[1;33m\u001b[0m\u001b[0m\n",
      "\u001b[1;32mc:\\users\\siladittya\\appdata\\local\\programs\\python\\python36\\lib\\site-packages\\cvxpy-1.1.0a3-py3.6-win-amd64.egg\\cvxpy\\reductions\\solvers\\solving_chain.py\u001b[0m in \u001b[0;36m_reductions_for_problem_class\u001b[1;34m(problem, candidates, gp)\u001b[0m\n\u001b[0;32m     83\u001b[0m                        \"Consider calling solve() with `qcp=True`.\")\n\u001b[0;32m     84\u001b[0m         raise DCPError(\n\u001b[1;32m---> 85\u001b[1;33m             \"Problem does not follow DCP rules. Specifically:\\n\" + append)\n\u001b[0m\u001b[0;32m     86\u001b[0m \u001b[1;33m\u001b[0m\u001b[0m\n\u001b[0;32m     87\u001b[0m     \u001b[1;32melif\u001b[0m \u001b[0mgp\u001b[0m \u001b[1;32mand\u001b[0m \u001b[1;32mnot\u001b[0m \u001b[0mproblem\u001b[0m\u001b[1;33m.\u001b[0m\u001b[0mis_dgp\u001b[0m\u001b[1;33m(\u001b[0m\u001b[1;33m)\u001b[0m\u001b[1;33m:\u001b[0m\u001b[1;33m\u001b[0m\u001b[0m\n",
      "\u001b[1;31mDCPError\u001b[0m: Problem does not follow DCP rules. Specifically:\nThe objective is not DCP. Its following subexpressions are not:\nvar3420.T @ [[ 1.83491803  1.75045974  2.28622267 ... -4.39732493 -5.00052443\n  -3.77439719]\n [ 1.75045974  2.34203535  2.34179792 ... -5.44176538 -5.89979043\n  -4.35890149]\n [ 2.28622267  2.34179792  2.8869991  ... -5.77716101 -6.50063002\n  -4.88412578]\n ...\n [-4.39732493 -5.44176538 -5.77716101 ... 12.85096644 14.07871791\n  10.45176273]\n [-5.00052443 -5.89979043 -6.50063002 ... 14.07871791 15.52527056\n  11.56008668]\n [-3.77439719 -4.35890149 -4.88412578 ... 10.45176273 11.56008668\n   8.61922173]] @ var3420"
     ]
    }
   ],
   "source": [
    "optimal_w = None\n",
    "optimal_b = None\n",
    "\n",
    "Cd.value = 0.95\n",
    "stime = time.time()\n",
    "prob_dual.solve()\n",
    "print(\"Problem Status : \"+prob_dual.status)\n",
    "print(\"Objective Function Value : \",prob_dual.value)\n",
    "print(\"Time Taken : \",time.time()-stime,\" seconds\\n\")"
   ]
  },
  {
   "cell_type": "code",
   "execution_count": 111,
   "metadata": {},
   "outputs": [
    {
     "name": "stdout",
     "output_type": "stream",
     "text": [
      "None\n"
     ]
    }
   ],
   "source": [
    "print(alphas.value)"
   ]
  },
  {
   "cell_type": "code",
   "execution_count": 109,
   "metadata": {},
   "outputs": [
    {
     "ename": "ValueError",
     "evalue": "matmul: Input operand 0 does not have enough dimensions (has 0, gufunc core with signature (n?,k),(k,m?)->(n?,m?) requires 1)",
     "output_type": "error",
     "traceback": [
      "\u001b[1;31m---------------------------------------------------------------------------\u001b[0m",
      "\u001b[1;31mValueError\u001b[0m                                Traceback (most recent call last)",
      "\u001b[1;32m<ipython-input-109-117ee56b1bc7>\u001b[0m in \u001b[0;36m<module>\u001b[1;34m\u001b[0m\n\u001b[1;32m----> 1\u001b[1;33m \u001b[0moptimal_w\u001b[0m\u001b[1;33m,\u001b[0m\u001b[0moptimal_b\u001b[0m \u001b[1;33m=\u001b[0m \u001b[0mget_weights_and_bias\u001b[0m\u001b[1;33m(\u001b[0m\u001b[0malphas\u001b[0m\u001b[1;33m)\u001b[0m\u001b[1;33m\u001b[0m\u001b[0m\n\u001b[0m\u001b[0;32m      2\u001b[0m \u001b[0mprint\u001b[0m\u001b[1;33m(\u001b[0m\u001b[1;34m\"Optimal Value of w : \"\u001b[0m\u001b[1;33m,\u001b[0m\u001b[0moptimal_w\u001b[0m\u001b[1;33m)\u001b[0m\u001b[1;33m\u001b[0m\u001b[0m\n\u001b[0;32m      3\u001b[0m \u001b[0mprint\u001b[0m\u001b[1;33m(\u001b[0m\u001b[1;34m\"Optimal Value of b : \"\u001b[0m\u001b[1;33m,\u001b[0m\u001b[0moptimal_b\u001b[0m\u001b[1;33m)\u001b[0m\u001b[1;33m\u001b[0m\u001b[0m\n",
      "\u001b[1;32m<ipython-input-108-4608d819b9fa>\u001b[0m in \u001b[0;36mget_weights_and_bias\u001b[1;34m(alphas)\u001b[0m\n\u001b[0;32m      1\u001b[0m \u001b[1;32mdef\u001b[0m \u001b[0mget_weights_and_bias\u001b[0m\u001b[1;33m(\u001b[0m\u001b[0malphas\u001b[0m\u001b[1;33m)\u001b[0m\u001b[1;33m:\u001b[0m\u001b[1;33m\u001b[0m\u001b[0m\n\u001b[0;32m      2\u001b[0m     \u001b[1;31m# get weights\u001b[0m\u001b[1;33m\u001b[0m\u001b[1;33m\u001b[0m\u001b[0m\n\u001b[1;32m----> 3\u001b[1;33m     \u001b[0mw\u001b[0m \u001b[1;33m=\u001b[0m \u001b[0mnp\u001b[0m\u001b[1;33m.\u001b[0m\u001b[0msum\u001b[0m\u001b[1;33m(\u001b[0m\u001b[0malphas\u001b[0m\u001b[1;33m.\u001b[0m\u001b[0mvalue\u001b[0m \u001b[1;33m@\u001b[0m \u001b[0my\u001b[0m\u001b[1;33m[\u001b[0m\u001b[1;33m:\u001b[0m\u001b[1;33m,\u001b[0m \u001b[1;32mNone\u001b[0m\u001b[1;33m]\u001b[0m \u001b[1;33m*\u001b[0m \u001b[0mx\u001b[0m\u001b[1;33m,\u001b[0m \u001b[0maxis\u001b[0m \u001b[1;33m=\u001b[0m \u001b[1;36m0\u001b[0m\u001b[1;33m)\u001b[0m\u001b[1;33m\u001b[0m\u001b[0m\n\u001b[0m\u001b[0;32m      4\u001b[0m     \u001b[1;31m# get bias\u001b[0m\u001b[1;33m\u001b[0m\u001b[1;33m\u001b[0m\u001b[0m\n\u001b[0;32m      5\u001b[0m     \u001b[0mcond\u001b[0m \u001b[1;33m=\u001b[0m \u001b[1;33m(\u001b[0m\u001b[0malphas\u001b[0m\u001b[1;33m.\u001b[0m\u001b[0mvalue\u001b[0m \u001b[1;33m>\u001b[0m \u001b[1;36m1e-4\u001b[0m\u001b[1;33m)\u001b[0m\u001b[1;33m.\u001b[0m\u001b[0mreshape\u001b[0m\u001b[1;33m(\u001b[0m\u001b[1;33m-\u001b[0m\u001b[1;36m1\u001b[0m\u001b[1;33m)\u001b[0m\u001b[1;33m\u001b[0m\u001b[0m\n",
      "\u001b[1;31mValueError\u001b[0m: matmul: Input operand 0 does not have enough dimensions (has 0, gufunc core with signature (n?,k),(k,m?)->(n?,m?) requires 1)"
     ]
    }
   ],
   "source": [
    "optimal_w,optimal_b = get_weights_and_bias(alphas)\n",
    "print(\"Optimal Value of w : \",optimal_w)\n",
    "print(\"Optimal Value of b : \",optimal_b)"
   ]
  },
  {
   "cell_type": "code",
   "execution_count": null,
   "metadata": {},
   "outputs": [],
   "source": [
    "print(\"Training Accuracy : \",end=\" \")\n",
    "print(np.count_nonzero([y[i]*(w.value@x[i,:].T+b.value)>=0 for i in range(2*NUM)])/(2*NUM))"
   ]
  },
  {
   "cell_type": "code",
   "execution_count": null,
   "metadata": {},
   "outputs": [],
   "source": [
    "print(\"Test Accuracy : \")\n",
    "print(np.count_nonzero([y_test[i]*(w.value*x_test[i,:].T+b.value)>=0 for i in range(int(2*NUM/10))])/int(2*NUM/10))"
   ]
  },
  {
   "cell_type": "code",
   "execution_count": null,
   "metadata": {},
   "outputs": [],
   "source": [
    "# show data and w\n",
    "fig, ax = plt.subplots()\n",
    "plot_separator(ax, optimal_w, optimal_b)\n",
    "plot_margins(ax,optimal_w,optimal_b)\n",
    "plot_data_with_labels(x, y, ax)\n",
    "plt.show()"
   ]
  }
 ],
 "metadata": {
  "kernelspec": {
   "display_name": "Python 3",
   "language": "python",
   "name": "python3"
  },
  "language_info": {
   "codemirror_mode": {
    "name": "ipython",
    "version": 3
   },
   "file_extension": ".py",
   "mimetype": "text/x-python",
   "name": "python",
   "nbconvert_exporter": "python",
   "pygments_lexer": "ipython3",
   "version": "3.6.3"
  }
 },
 "nbformat": 4,
 "nbformat_minor": 2
}
