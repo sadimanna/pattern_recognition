{
 "cells": [
  {
   "cell_type": "markdown",
   "metadata": {},
   "source": [
    "## Mathematical Formulation"
   ]
  },
  {
   "cell_type": "markdown",
   "metadata": {},
   "source": [
    "$min_{\\gamma,w,b} \\frac{1}{2} \\vert\\vert w \\vert\\vert ^{2} + C \\sum_{i=1}^{m} \\xi_{i}$\n",
    "\n",
    "$min_{\\gamma,w,b} \\frac{1}{2} \\vert\\vert w \\vert\\vert ^{2} + C 1^T\\xi$\n",
    "\n",
    "$ s.t.$ \n",
    "\n",
    "$ y^{(i)}(w^T x^{(i)} + b) \\geq 1 - \\xi_{i} , i=1,2,...m $\n",
    "\n",
    "$ \\xi_{i} \\geq 0 , i=1,2,...m $\n",
    "\n",
    "$ max_\\alpha \\sum_{i=1}^{m} \\alpha_{i} - \\frac{1}{2} \\sum_{i,j=1}^{m} y^{(i)}y^{(j)}\\alpha_{i}\\alpha_{j}<x^{(i)},x^{(j)}>$\n",
    "\n",
    "$ s.t.$ \n",
    "\n",
    "$ 0 \\leq \\alpha_{i} \\leq C_{i}, i=1,2,...m $\n",
    "\n",
    "$  \\sum_{i=1}^{m} \\alpha_{i} y^{(i)} = 0 $"
   ]
  },
  {
   "cell_type": "markdown",
   "metadata": {},
   "source": [
    "### Importing Libraries"
   ]
  },
  {
   "cell_type": "code",
   "execution_count": 2,
   "metadata": {},
   "outputs": [],
   "source": [
    "import cvxpy as cp\n",
    "import numpy as np\n",
    "import matplotlib.pyplot as plt\n",
    "import time, os"
   ]
  },
  {
   "cell_type": "markdown",
   "metadata": {},
   "source": [
    "### Generating Data"
   ]
  },
  {
   "cell_type": "code",
   "execution_count": 3,
   "metadata": {},
   "outputs": [
    {
     "name": "stdout",
     "output_type": "stream",
     "text": [
      "x (100, 2) y (100,)\n",
      "x_test (50, 2) y_test (50,)\n"
     ]
    }
   ],
   "source": [
    "DIM = 2\n",
    "COLORS = ['red', 'blue']\n",
    "\n",
    "# 2-D mean of ones\n",
    "M1 = np.ones((DIM,))\n",
    "# 2-D mean of threes\n",
    "M2 = 2 * np.ones((DIM,))\n",
    "# 2-D covariance of 0.3\n",
    "C1 = np.diag(0.3 * np.ones((DIM,)))\n",
    "# 2-D covariance of 0.2\n",
    "C2 = np.diag(0.2 * np.ones((DIM,)))\n",
    "\n",
    "def generate_gaussian(m, c, num):\n",
    "    return np.random.multivariate_normal(m, c, num)\n",
    "\n",
    "NUM = 50\n",
    "if __name__ == '__main__':\n",
    "    # generate 50 points from gaussian 1\n",
    "    x1 = generate_gaussian(M1, C1, NUM)\n",
    "    x1_test = generate_gaussian(M1,C1,int(NUM/2))\n",
    "    # labels\n",
    "    y1 = np.ones((x1.shape[0],))\n",
    "    y1_test = np.ones((int(x1_test.shape[0]),))\n",
    "    # generate 50 points from gaussian 2\n",
    "    x2 = generate_gaussian(M2, C2, NUM)\n",
    "    x2_test = generate_gaussian(M2,C2,int(NUM/2))\n",
    "    y2 = -np.ones((x2.shape[0],))\n",
    "    y2_test = -np.ones((int(x2_test.shape[0]),))\n",
    "    # join\n",
    "    x = np.concatenate((x1, x2), axis = 0)\n",
    "    y = np.concatenate((y1, y2), axis = 0)\n",
    "    x_test = np.concatenate((x1_test,x2_test),axis = 0)\n",
    "    y_test = np.concatenate((y1_test,y2_test),axis = 0)\n",
    "    print('x {} y {}'.format(x.shape, y.shape))\n",
    "    print('x_test {} y_test {}'.format(x_test.shape, y_test.shape))\n",
    "    # write\n",
    "    #with open('gaussiandata.pickle', 'wb') as f:\n",
    "    #    pickle.dump((x, y), f)"
   ]
  },
  {
   "cell_type": "markdown",
   "metadata": {},
   "source": [
    "### Plotting Functions"
   ]
  },
  {
   "cell_type": "code",
   "execution_count": 4,
   "metadata": {},
   "outputs": [],
   "source": [
    "def plot_data_with_labels(x, y, ax=None):\n",
    "    unique = np.unique(y)\n",
    "    if ax==None:\n",
    "        fig,ax = plt.subplots()\n",
    "    for li in range(len(unique)):\n",
    "        x_sub = x[y == unique[li]]\n",
    "        ax.scatter(x_sub[:, 0], x_sub[:, 1], c = COLORS[li])\n",
    "    plt.show()"
   ]
  },
  {
   "cell_type": "code",
   "execution_count": 5,
   "metadata": {},
   "outputs": [
    {
     "data": {
      "image/png": "[encoded data removed]",
      "text/plain": [
       "<Figure size 432x288 with 1 Axes>"
      ]
     },
     "metadata": {
      "needs_background": "light"
     },
     "output_type": "display_data"
    }
   ],
   "source": [
    "plot_data_with_labels(x, y)"
   ]
  },
  {
   "cell_type": "code",
   "execution_count": 6,
   "metadata": {},
   "outputs": [],
   "source": [
    "def plot_separator(ax, w, b): \n",
    "    slope = -w[0] / w[1]\n",
    "    intercept = -b / w[1]\n",
    "    minpt = np.min(x[:,0])\n",
    "    maxpt = np.max(x[:,0])\n",
    "    sep_min = minpt*slope+intercept\n",
    "    sep_max = maxpt*slope+intercept\n",
    "    ax.plot([minpt,maxpt], [sep_min,sep_max], 'k-')"
   ]
  },
  {
   "cell_type": "code",
   "execution_count": 7,
   "metadata": {},
   "outputs": [],
   "source": [
    "def plot_margins(ax, w, b):\n",
    "    slope = -w[0] / w[1]\n",
    "    intercept = -b / w[1]\n",
    "    minpt = np.min(x[:,0])\n",
    "    maxpt = np.max(x[:,0])\n",
    "    margin_up_min = slope*minpt+intercept+1/w[1]\n",
    "    margin_up_max = slope*maxpt+intercept+1/w[1]\n",
    "    margin_down_min = slope*minpt+intercept-1/w[1]\n",
    "    margin_down_max = slope*maxpt+intercept-1/w[1]\n",
    "    \n",
    "    ax.plot([minpt,maxpt],[margin_up_min,margin_up_max],'--',color='gray')\n",
    "    ax.plot([minpt,maxpt],[margin_down_min,margin_down_max],'--',color='gray')"
   ]
  },
  {
   "cell_type": "markdown",
   "metadata": {},
   "source": [
    "### Calculating the Support Vectors"
   ]
  },
  {
   "cell_type": "code",
   "execution_count": 68,
   "metadata": {},
   "outputs": [],
   "source": [
    "def get_support_vectors(w,b,x):\n",
    "    sv = []\n",
    "    for i in range(x.shape[0]):\n",
    "        if np.abs(np.abs(np.dot(w.T,x[i])+b)-1)<0.001:\n",
    "            sv.append(x[i])\n",
    "    return sv"
   ]
  },
  {
   "cell_type": "markdown",
   "metadata": {},
   "source": [
    "# Primal"
   ]
  },
  {
   "cell_type": "markdown",
   "metadata": {},
   "source": [
    "### Declaring Variables and Parameters"
   ]
  },
  {
   "cell_type": "code",
   "execution_count": 8,
   "metadata": {},
   "outputs": [],
   "source": [
    "w = cp.Variable(DIM)\n",
    "b = cp.Variable()\n",
    "Xi = cp.Variable(2*NUM) #Length equal to total number of samples\n",
    "\n",
    "Cp = cp.Parameter()\n",
    "Cp.value = 0.6"
   ]
  },
  {
   "cell_type": "markdown",
   "metadata": {},
   "source": [
    "### Declaring the Constraints"
   ]
  },
  {
   "cell_type": "code",
   "execution_count": 9,
   "metadata": {},
   "outputs": [],
   "source": [
    "x_constraints = [y[i]*(w.T@x[i]+b) >= 1 - Xi[i] for i in range(2*NUM)]\n",
    "Xi_constraints = [Xi[i]>=0 for i in range(2*NUM)]\n",
    "\n",
    "constraints = x_constraints + Xi_constraints"
   ]
  },
  {
   "cell_type": "markdown",
   "metadata": {},
   "source": [
    "### Declaring the Objective Function"
   ]
  },
  {
   "cell_type": "code",
   "execution_count": 10,
   "metadata": {},
   "outputs": [],
   "source": [
    "objective = cp.Minimize(0.5*cp.norm(w,2)+Cp*(np.ones(2*NUM)@Xi))"
   ]
  },
  {
   "cell_type": "markdown",
   "metadata": {},
   "source": [
    "### Declaring the Problem instance"
   ]
  },
  {
   "cell_type": "code",
   "execution_count": 11,
   "metadata": {},
   "outputs": [],
   "source": [
    "prob = cp.Problem(objective,constraints)"
   ]
  },
  {
   "cell_type": "markdown",
   "metadata": {},
   "source": [
    "### Final nail!!!"
   ]
  },
  {
   "cell_type": "code",
   "execution_count": 12,
   "metadata": {},
   "outputs": [
    {
     "name": "stdout",
     "output_type": "stream",
     "text": [
      "Problem Status : optimal\n",
      "Objective Function Value :  8.122560733999256\n",
      "Time Taken :  0.4767262935638428  seconds\n",
      "\n"
     ]
    }
   ],
   "source": [
    "optimal_w = None\n",
    "optimal_b = None\n",
    "\n",
    "Cp.value = 0.95\n",
    "stime = time.time()\n",
    "prob.solve()\n",
    "\n",
    "optimal_w = w.value\n",
    "optimal_b = b.value\n",
    "\n",
    "print(\"Problem Status : \"+prob.status)\n",
    "print(\"Objective Function Value : \",prob.value)\n",
    "print(\"Time Taken : \",time.time()-stime,\" seconds\\n\")"
   ]
  },
  {
   "cell_type": "code",
   "execution_count": 13,
   "metadata": {},
   "outputs": [
    {
     "name": "stdout",
     "output_type": "stream",
     "text": [
      "Optimal Value of w :  [-5.28903969 -3.9230688 ]\n",
      "Optimal Value of b :  14.503911264673919\n"
     ]
    }
   ],
   "source": [
    "print(\"Optimal Value of w : \",optimal_w)\n",
    "print(\"Optimal Value of b : \",optimal_b)"
   ]
  },
  {
   "cell_type": "code",
   "execution_count": 14,
   "metadata": {},
   "outputs": [
    {
     "name": "stdout",
     "output_type": "stream",
     "text": [
      "Training Accuracy :  0.98\n"
     ]
    }
   ],
   "source": [
    "print(\"Training Accuracy : \",end=\" \")\n",
    "print(np.count_nonzero([y[i]*(w.value@x[i,:].T+b.value)>=0 for i in range(2*NUM)])/(2*NUM))"
   ]
  },
  {
   "cell_type": "code",
   "execution_count": 15,
   "metadata": {},
   "outputs": [
    {
     "name": "stdout",
     "output_type": "stream",
     "text": [
      "Test Accuracy : \n",
      "0.96\n"
     ]
    }
   ],
   "source": [
    "print(\"Test Accuracy : \")\n",
    "print(np.count_nonzero([y_test[i]*(w.value@x_test[i,:].T+b.value)>=0 for i in range(NUM)])/int(NUM))"
   ]
  },
  {
   "cell_type": "code",
   "execution_count": 69,
   "metadata": {},
   "outputs": [],
   "source": [
    "support_vectors = np.array(get_support_vectors(optimal_w,optimal_b,x))"
   ]
  },
  {
   "cell_type": "code",
   "execution_count": 70,
   "metadata": {},
   "outputs": [
    {
     "data": {
      "text/plain": [
       "array([[1.14107537, 1.90379489],\n",
       "       [1.50388369, 1.41466056],\n",
       "       [2.08469206, 1.14142587]])"
      ]
     },
     "execution_count": 70,
     "metadata": {},
     "output_type": "execute_result"
    }
   ],
   "source": [
    "support_vectors"
   ]
  },
  {
   "cell_type": "code",
   "execution_count": 71,
   "metadata": {},
   "outputs": [],
   "source": [
    "def plot_data_with_labels(x, y, ax=None):\n",
    "    unique = np.unique(y)\n",
    "    if ax==None:\n",
    "        fig,ax = plt.subplots()\n",
    "    for li in range(len(unique)):\n",
    "        x_sub = x[y == unique[li]]\n",
    "        ax.scatter(x_sub[:, 0], x_sub[:, 1], c = COLORS[li])\n",
    "    plt.show()"
   ]
  },
  {
   "cell_type": "code",
   "execution_count": 73,
   "metadata": {},
   "outputs": [
    {
     "data": {
      "image/png": "[encoded data removed]",
      "text/plain": [
       "<Figure size 720x432 with 1 Axes>"
      ]
     },
     "metadata": {
      "needs_background": "light"
     },
     "output_type": "display_data"
    }
   ],
   "source": [
    "# show data and w\n",
    "fig, ax = plt.subplots()\n",
    "fig.set_size_inches((10,6))\n",
    "plot_separator(ax, optimal_w, optimal_b)\n",
    "plot_margins(ax,optimal_w,optimal_b)\n",
    "ax.plot(support_vectors[:,0],support_vectors[:,1],'kD')\n",
    "plot_data_with_labels(x, y, ax)"
   ]
  },
  {
   "cell_type": "code",
   "execution_count": 46,
   "metadata": {},
   "outputs": [
    {
     "data": {
      "image/png": "[encoded data removed]",
      "text/plain": [
       "<Figure size 432x288 with 1 Axes>"
      ]
     },
     "metadata": {
      "needs_background": "light"
     },
     "output_type": "display_data"
    }
   ],
   "source": [
    "fig, ax = plt.subplots()\n",
    "plot_separator(ax, optimal_w, optimal_b)\n",
    "plot_margins(ax,optimal_w,optimal_b)\n",
    "plot_data_with_labels(x_test, y_test, ax)\n",
    "plt.show()"
   ]
  },
  {
   "cell_type": "code",
   "execution_count": 17,
   "metadata": {},
   "outputs": [
    {
     "data": {
      "text/plain": [
       "SVC(C=0.95, cache_size=200, class_weight=None, coef0=0.0,\n",
       "    decision_function_shape='ovr', degree=3, gamma='auto_deprecated',\n",
       "    kernel='linear', max_iter=-1, probability=False, random_state=None,\n",
       "    shrinking=True, tol=0.001, verbose=False)"
      ]
     },
     "execution_count": 17,
     "metadata": {},
     "output_type": "execute_result"
    }
   ],
   "source": [
    "import warnings\n",
    "warnings.filterwarnings(\"ignore\", message=\"numpy.dtype size changed\")\n",
    "warnings.filterwarnings(\"ignore\", message=\"numpy.ufunc size changed\")\n",
    "\n",
    "from sklearn import svm\n",
    "\n",
    "clf = svm.SVC(kernel='linear',C=1-0.05)\n",
    "clf.fit(x,y)"
   ]
  },
  {
   "cell_type": "code",
   "execution_count": 18,
   "metadata": {},
   "outputs": [
    {
     "name": "stdout",
     "output_type": "stream",
     "text": [
      "[-1.69314349 -1.58813166] [4.96198224]\n"
     ]
    }
   ],
   "source": [
    "print(clf.coef_[0],clf.intercept_)"
   ]
  },
  {
   "cell_type": "code",
   "execution_count": 19,
   "metadata": {},
   "outputs": [
    {
     "data": {
      "image/png": "[encoded data removed]",
      "text/plain": [
       "<Figure size 432x288 with 1 Axes>"
      ]
     },
     "metadata": {
      "needs_background": "light"
     },
     "output_type": "display_data"
    }
   ],
   "source": [
    "w1 = clf.coef_[0]\n",
    "b1 = clf.intercept_\n",
    "fig1, ax1 = plt.subplots()\n",
    "plot_separator(ax1,w1,b1)\n",
    "plot_margins(ax1,w1,b1)\n",
    "plot_data_with_labels(x, y, ax1)\n",
    "plt.show()"
   ]
  },
  {
   "cell_type": "code",
   "execution_count": 20,
   "metadata": {},
   "outputs": [
    {
     "name": "stdout",
     "output_type": "stream",
     "text": [
      "Training Accuracy:  0.96\n"
     ]
    }
   ],
   "source": [
    "print(\"Training Accuracy: \", clf.score(x,y))"
   ]
  },
  {
   "cell_type": "code",
   "execution_count": 21,
   "metadata": {},
   "outputs": [
    {
     "data": {
      "text/plain": [
       "0.94"
      ]
     },
     "execution_count": 21,
     "metadata": {},
     "output_type": "execute_result"
    }
   ],
   "source": [
    "clf.score(x_test,y_test)"
   ]
  },
  {
   "cell_type": "code",
   "execution_count": null,
   "metadata": {},
   "outputs": [],
   "source": []
  },
  {
   "cell_type": "markdown",
   "metadata": {},
   "source": [
    "#### It is evident that the result obtained using cvxpy is almost same as returned by sklearn.svm.SVC "
   ]
  },
  {
   "cell_type": "markdown",
   "metadata": {},
   "source": [
    "# Dual"
   ]
  },
  {
   "cell_type": "code",
   "execution_count": 232,
   "metadata": {},
   "outputs": [],
   "source": [
    "def get_weights_and_bias(alphas):\n",
    "    # get weights\n",
    "    w = np.sum(alphas.value @ y[:, None] * x, axis = 0)\n",
    "    # get bias\n",
    "    cond = (alphas.value > 1e-4).reshape(-1)\n",
    "    b = y[cond] - np.dot(x[cond], w)\n",
    "    bias = b[0]\n",
    "    return (w,bias)"
   ]
  },
  {
   "cell_type": "code",
   "execution_count": 170,
   "metadata": {},
   "outputs": [],
   "source": [
    "alphas = cp.Variable(2*NUM)\n",
    "Cd = cp.Parameter()\n",
    "Cd.value = 0.95"
   ]
  },
  {
   "cell_type": "code",
   "execution_count": 171,
   "metadata": {},
   "outputs": [],
   "source": [
    "alphas_constraint_1 = [alphas[i] >= 0 for i in range(2*NUM)]\n",
    "alphas_constraint_2 = [alphas[i] <= Cd for i in range(2*NUM)]\n",
    "alpha_y_constraint = [alphas.T@y==0]\n",
    "\n",
    "constraints_dual = alphas_constraint_1 + alphas_constraint_2 + alpha_y_constraint"
   ]
  },
  {
   "cell_type": "code",
   "execution_count": 206,
   "metadata": {},
   "outputs": [
    {
     "name": "stdout",
     "output_type": "stream",
     "text": [
      "[[ 1.83491803  1.75045974  2.28622267 ... -4.39732493 -5.00052443\n",
      "  -3.77439719]\n",
      " [ 1.75045974  2.34203535  2.34179792 ... -5.44176538 -5.89979043\n",
      "  -4.35890149]\n",
      " [ 2.28622267  2.34179792  2.8869991  ... -5.77716101 -6.50063002\n",
      "  -4.88412578]\n",
      " ...\n",
      " [-4.39732493 -5.44176538 -5.77716101 ... 12.85096644 14.07871791\n",
      "  10.45176273]\n",
      " [-5.00052443 -5.89979043 -6.50063002 ... 14.07871791 15.52527056\n",
      "  11.56008668]\n",
      " [-3.77439719 -4.35890149 -4.88412578 ... 10.45176273 11.56008668\n",
      "   8.61922173]]\n"
     ]
    }
   ],
   "source": [
    "K = y[:,None]*x\n",
    "K = np.dot(K,K.T)\n",
    "#alpha_y = cp.multiply(y[:,None],alphas)\n",
    "print(K)"
   ]
  },
  {
   "cell_type": "code",
   "execution_count": 282,
   "metadata": {},
   "outputs": [],
   "source": [
    "def is_pos_def(x):\n",
    "    return np.all(np.linalg.eigvals(x) > 0)"
   ]
  },
  {
   "cell_type": "code",
   "execution_count": 285,
   "metadata": {},
   "outputs": [
    {
     "data": {
      "text/plain": [
       "False"
      ]
     },
     "execution_count": 285,
     "metadata": {},
     "output_type": "execute_result"
    }
   ],
   "source": [
    "is_pos_def(np.dot(K,K.T))"
   ]
  },
  {
   "cell_type": "markdown",
   "metadata": {},
   "source": [
    "$min f(x) = q^T x + \\frac{1}{2} x^T Q x$\n",
    "\n",
    "$s.t.    Ax=a$\n",
    "\n",
    "$Bx \\leq b$\n",
    "\n",
    "$x \\geq 0$\n",
    "\n",
    "If the objective function is convex, then any local minimum found is also the sole global minimum. To analyze the function’s convexity, one can compute its Hessian matrix and verify that all eigenvalues are positive, or, equivalently, one can verify that the matrix Q is positive definite"
   ]
  },
  {
   "cell_type": "markdown",
   "metadata": {},
   "source": [
    "For SVM probelms having indefinite Kernels, refer to these papers\n",
    "https://papers.nips.cc/paper/3339-support-vector-machine-classification-with-indefinite-kernels.pdf\n",
    "http://icml2008.cs.helsinki.fi/papers/531.pdf"
   ]
  },
  {
   "cell_type": "code",
   "execution_count": 287,
   "metadata": {},
   "outputs": [
    {
     "data": {
      "text/plain": [
       "(-8.024450571441607e-15-5.444335439633958e-15j)"
      ]
     },
     "execution_count": 287,
     "metadata": {},
     "output_type": "execute_result"
    }
   ],
   "source": [
    "np.min(np.linalg.eigvals(K))"
   ]
  },
  {
   "cell_type": "markdown",
   "metadata": {},
   "source": [
    "#### Complex Eigenvalues\n",
    "For SVM problems having Kernels with complex eigenvalues, refer to \n",
    "https://res.mdpi.com/d_attachment/applsci/applsci-09-03090/article_deploy/applsci-09-03090.pdf\n",
    "\n",
    "As is evident from results below, conventional methods of solving quadratic optimization problem gives incorrect results."
   ]
  },
  {
   "cell_type": "code",
   "execution_count": 207,
   "metadata": {},
   "outputs": [
    {
     "name": "stdout",
     "output_type": "stream",
     "text": [
      "(100, 100)\n",
      "(100,)\n"
     ]
    }
   ],
   "source": [
    "print(K.shape)\n",
    "print(alphas.shape)"
   ]
  },
  {
   "cell_type": "code",
   "execution_count": 276,
   "metadata": {},
   "outputs": [],
   "source": [
    "expr1 = cp.sum(alphas)\n",
    "expr2 = 0.5*cp.sum_squares(alphas.T@K)"
   ]
  },
  {
   "cell_type": "code",
   "execution_count": 277,
   "metadata": {},
   "outputs": [
    {
     "name": "stdout",
     "output_type": "stream",
     "text": [
      "AFFINE UNKNOWN True\n",
      "CONVEX NONNEGATIVE True\n"
     ]
    }
   ],
   "source": [
    "print(expr1.curvature,expr1.sign,expr1.is_dcp())\n",
    "print(expr2.curvature,expr2.sign,expr2.is_dcp())"
   ]
  },
  {
   "cell_type": "code",
   "execution_count": 278,
   "metadata": {},
   "outputs": [],
   "source": [
    "objective_dual = cp.Maximize(expr1-expr2)"
   ]
  },
  {
   "cell_type": "code",
   "execution_count": 279,
   "metadata": {},
   "outputs": [],
   "source": [
    "prob_dual = cp.Problem(objective_dual,constraints)"
   ]
  },
  {
   "cell_type": "code",
   "execution_count": 290,
   "metadata": {},
   "outputs": [
    {
     "data": {
      "text/plain": [
       "['ECOS', 'ECOS_BB', 'OSQP', 'SCS']"
      ]
     },
     "execution_count": 290,
     "metadata": {},
     "output_type": "execute_result"
    }
   ],
   "source": [
    "cp.installed_solvers()"
   ]
  },
  {
   "cell_type": "code",
   "execution_count": 292,
   "metadata": {},
   "outputs": [
    {
     "name": "stdout",
     "output_type": "stream",
     "text": [
      "Problem Status : optimal\n",
      "Objective Function Value :  12.598629209742224\n",
      "Time Taken :  0.20547795295715332  seconds\n",
      "\n"
     ]
    }
   ],
   "source": [
    "optimal_w = None\n",
    "optimal_b = None\n",
    "\n",
    "Cd.value = 0.6\n",
    "stime = time.time()\n",
    "prob_dual.solve(solver=cp.ECOS_BB)\n",
    "print(\"Problem Status : \"+prob_dual.status)\n",
    "print(\"Objective Function Value : \",prob_dual.value)\n",
    "print(\"Time Taken : \",time.time()-stime,\" seconds\\n\")"
   ]
  },
  {
   "cell_type": "code",
   "execution_count": 293,
   "metadata": {},
   "outputs": [
    {
     "name": "stdout",
     "output_type": "stream",
     "text": [
      "[ 6.00000000e-01  1.14376282e-12 -1.42320742e-12  6.00000000e-01\n",
      "  1.06622077e-11 -3.50965859e-12 -2.27521624e-12 -6.22738101e-13\n",
      "  2.15791013e-11 -1.50161328e-12 -1.63495682e-13  4.15987315e-02\n",
      " -1.41671973e-12  7.57382378e-13 -2.13767510e-12  2.95435134e-12\n",
      " -2.05555792e-12 -1.74532346e-12 -2.38102667e-12 -2.38603572e-12\n",
      " -2.30345060e-12 -4.35215169e-13 -2.41794939e-12  3.61847772e-11\n",
      "  6.00000000e-01  6.00000000e-01  1.11549175e-12  3.00086823e-11\n",
      "  4.34952009e-13  2.63457297e-01 -1.32363780e-12 -1.89976020e-12\n",
      "  6.00000000e-01  8.99688500e-12  6.00000000e-01 -2.02484225e-12\n",
      "  6.53379450e-12 -6.35872014e-13 -1.71153212e-12 -1.65410393e-12\n",
      "  6.00000000e-01  6.00000000e-01  3.39435932e-13 -1.91371482e-12\n",
      "  4.86798143e-12  8.38139949e-11  6.00000000e-01  2.03087837e-12\n",
      "  6.00000000e-01 -2.47923645e-12  6.00000000e-01  1.60431989e-13\n",
      "  4.64090176e-15 -9.49574143e-14  1.36940343e-13  7.83582647e-13\n",
      "  3.33643475e-12  2.68157620e-13  1.54499382e-13 -7.41869731e-14\n",
      " -1.09527215e-12  6.00000000e-01 -7.66787401e-13 -8.72639440e-13\n",
      "  6.00000000e-01  1.21302735e-11  9.11022853e-12  6.00000000e-01\n",
      "  6.00000000e-01  6.00000000e-01  6.38928816e-14 -5.39259270e-13\n",
      "  6.00000000e-01 -6.20274110e-14  1.68615120e-13 -2.05808354e-13\n",
      " -5.32126229e-13  7.53857798e-12 -1.24408551e-12 -7.16296685e-13\n",
      " -9.04224975e-13  3.26426070e-11  3.82936136e-10  1.79625470e-12\n",
      "  3.26581626e-12  1.21678066e-10  3.33905649e-12  2.04744360e-12\n",
      " -2.84976577e-13  1.63387240e-12  3.22576427e-13  6.00000000e-01\n",
      " -2.11752518e-13  2.72710009e-12 -7.59535290e-15  9.09304815e-12\n",
      "  6.00000000e-01  6.00000000e-01  3.05056029e-01  3.49646429e-11]\n"
     ]
    }
   ],
   "source": [
    "print(alphas.value)"
   ]
  },
  {
   "cell_type": "code",
   "execution_count": 294,
   "metadata": {},
   "outputs": [
    {
     "name": "stdout",
     "output_type": "stream",
     "text": [
      "Optimal Value of w :  [-5.89798172e-13 -5.13084024e-13]\n",
      "Optimal Value of b :  1.0000000000015616\n"
     ]
    }
   ],
   "source": [
    "optimal_w,optimal_b = get_weights_and_bias(alphas)\n",
    "print(\"Optimal Value of w : \",optimal_w)\n",
    "print(\"Optimal Value of b : \",optimal_b)"
   ]
  },
  {
   "cell_type": "code",
   "execution_count": 295,
   "metadata": {},
   "outputs": [
    {
     "name": "stdout",
     "output_type": "stream",
     "text": [
      "Training Accuracy :  1.0\n"
     ]
    }
   ],
   "source": [
    "print(\"Training Accuracy : \",end=\" \")\n",
    "print(np.count_nonzero([y[i]*(optimal_w*x[i,:].T+optimal_b)>=0 for i in range(2*NUM)])/(2*NUM))"
   ]
  },
  {
   "cell_type": "code",
   "execution_count": 296,
   "metadata": {},
   "outputs": [
    {
     "name": "stdout",
     "output_type": "stream",
     "text": [
      "Test Accuracy : \n",
      "1.0\n"
     ]
    }
   ],
   "source": [
    "print(\"Test Accuracy : \")\n",
    "print(np.count_nonzero([y_test[i]*(optimal_w*x_test[i,:].T+optimal_b)>=0 for i in range(NUM)])/NUM)"
   ]
  },
  {
   "cell_type": "code",
   "execution_count": 297,
   "metadata": {},
   "outputs": [
    {
     "data": {
      "image/png": "[encoded data removed]",
      "text/plain": [
       "<Figure size 432x288 with 1 Axes>"
      ]
     },
     "metadata": {
      "needs_background": "light"
     },
     "output_type": "display_data"
    }
   ],
   "source": [
    "# show data and w\n",
    "fig, ax = plt.subplots()\n",
    "plot_separator(ax, 1e12*optimal_w, optimal_b)\n",
    "plot_margins(ax,1e12*optimal_w,optimal_b)\n",
    "plot_data_with_labels(x, y, ax)\n",
    "plt.show()"
   ]
  },
  {
   "cell_type": "markdown",
   "metadata": {},
   "source": [
    "### As can be clearly seen, unlike the PRIMAL case, the hyperplane is not correct."
   ]
  },
  {
   "cell_type": "code",
   "execution_count": null,
   "metadata": {},
   "outputs": [],
   "source": []
  }
 ],
 "metadata": {
  "kernelspec": {
   "display_name": "Python 3",
   "language": "python",
   "name": "python3"
  },
  "language_info": {
   "codemirror_mode": {
    "name": "ipython",
    "version": 3
   },
   "file_extension": ".py",
   "mimetype": "text/x-python",
   "name": "python",
   "nbconvert_exporter": "python",
   "pygments_lexer": "ipython3",
   "version": "3.6.3"
  }
 },
 "nbformat": 4,
 "nbformat_minor": 2
}
